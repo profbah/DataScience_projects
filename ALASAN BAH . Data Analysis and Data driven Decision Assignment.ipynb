{
 "cells": [
  {
   "cell_type": "markdown",
   "metadata": {},
   "source": [
    "<b> NAME: ALASAN BAH <b>\n",
    " \n",
    " <b> MAT: <b> 254853 <b>"
   ]
  },
  {
   "cell_type": "markdown",
   "metadata": {},
   "source": [
    "<b>• Compute descriptive statistics using pandas methods."
   ]
  },
  {
   "cell_type": "code",
   "execution_count": 4,
   "metadata": {},
   "outputs": [
    {
     "name": "stdout",
     "output_type": "stream",
     "text": [
      "        A      T     S      R      H     F  Q     P        D          L     X  \\\n",
      "0     7.0  170.0  0.45  20.70  0.045  45.0  6  3.00  1.00100   8.800000  1.00   \n",
      "1     6.3  132.0  0.49   1.60  0.049  14.0  6  3.30  0.99400   9.500000  0.17   \n",
      "2     8.1   97.0  0.44   6.90  0.050  30.0  6  3.26  0.99510  10.100000  0.13   \n",
      "3     7.2  186.0  0.40   8.50  0.058  47.0  6  3.19  0.99560   9.900000  0.14   \n",
      "4     7.2  186.0  0.40   8.50  0.058  47.0  6  3.19  0.99560   9.900000  0.17   \n",
      "5     8.1   97.0  0.44   6.90  0.050  30.0  6  3.26  0.99510  10.100000  0.13   \n",
      "6     6.2  136.0  0.47   7.00  0.045  30.0  6  3.18  0.99490   9.600000  0.20   \n",
      "7     7.0  170.0  0.45  20.70  0.045  45.0  6  3.00  1.00100   8.800000  0.25   \n",
      "8     6.3  132.0  0.49   1.60  0.049  14.0  6  3.30  0.99400   9.500000  0.10   \n",
      "9     8.1  129.0  0.45   1.50  0.044  28.0  6  3.22  0.99380  11.000000  0.20   \n",
      "10    8.1   63.0  0.56   1.45  0.033  11.0  5  2.99  0.99080  12.000000  0.10   \n",
      "11    8.6  109.0  0.53   4.20  0.035  17.0  5  3.14  0.99470   9.700000  0.33   \n",
      "12    7.9   75.0  0.63   1.20  0.040  16.0  5  3.18  0.99200  10.800000  0.13   \n",
      "13    6.6  143.0  0.52   1.50  0.044  48.0  7  3.54  0.99120  12.400000  1.00   \n",
      "14    8.3  172.0  0.67  19.25  0.040  41.0  5  2.98  1.00020   9.700000  0.17   \n",
      "15    6.6  112.0  0.55   1.50  0.032  28.0  7  3.25  0.99140  11.400000  0.25   \n",
      "16    6.3   99.0  0.36   1.10  0.046  30.0  6  3.24  0.99280   9.600000  0.14   \n",
      "17    6.2   75.0  0.39   1.20  0.029  29.0  8  3.33  0.98920  12.800000  0.20   \n",
      "18    7.4  171.0  0.53   1.10  0.033  17.0  6  3.12  0.99170  11.300000  0.50   \n",
      "19    6.5  133.0  0.50   7.50  0.044  34.0  5  3.22  0.99550   9.500000  1.00   \n",
      "20    6.2   75.0  0.39   1.20  0.029  29.0  8  3.33  0.98920  12.800000  0.17   \n",
      "21    6.4  102.0  0.35   2.90  0.038  19.0  7  3.17  0.99120  11.000000  0.10   \n",
      "22    6.8  122.0  0.48   1.70  0.049  41.0  8  3.47  0.99300  10.500000  0.17   \n",
      "23    7.6  168.0  0.51   1.50  0.074  25.0  5  3.05  0.99370   9.300000  0.33   \n",
      "24    6.6  142.0  0.47   1.30  0.052  16.0  6  3.42  0.99510  10.000000  0.50   \n",
      "25    7.0  245.0  0.50   9.00  0.046  56.0  6  3.25  0.99550  10.400000  0.25   \n",
      "26    6.9  146.0  0.44   1.00  0.052  35.0  6  3.45  0.99300  10.000000  0.33   \n",
      "27    7.0  141.0  0.53   8.70  0.051  32.0  6  3.38  0.99610  10.500000  0.13   \n",
      "28    7.4  132.0  0.49   1.10  0.047  17.0  6  3.19  0.99140  11.600000  0.17   \n",
      "29    7.2  114.0  0.71   2.00  0.033  37.0  7  3.10  0.99060  12.300000  0.25   \n",
      "...   ...    ...   ...    ...    ...   ... ..   ...      ...        ...   ...   \n",
      "4868  5.8  124.0  0.64   4.50  0.046  42.0  6  3.31  0.99324  10.800000  0.13   \n",
      "4869  6.6   81.0  0.51  10.10  0.032   8.0  6  3.19  0.99626   9.800000  0.17   \n",
      "4870  6.1  132.0  0.36   6.60  0.021  29.0  7  3.15  0.99188  11.450000  0.50   \n",
      "4871  5.0   98.0  0.55   1.90  0.015  20.0  6  3.37  0.98970  12.050000  0.13   \n",
      "4872  6.0  179.0  0.60  12.40  0.032  50.0  5  3.14  0.99622   9.700000  1.00   \n",
      "4873  5.7  122.0  0.52   1.60  0.030  33.0  6  3.33  0.99044  11.900000  0.17   \n",
      "4874  5.6  125.0  0.49   2.50  0.048  16.0  6  3.49  0.99282  10.000000  0.50   \n",
      "4875  7.4   97.0  0.41   1.20  0.035  18.0  6  3.12  0.99245   9.700000  0.13   \n",
      "4876  6.2  117.0  0.59   2.50  0.038  34.0  7  3.36  0.99132  11.600000  0.10   \n",
      "4877  5.9   82.0  0.36   0.80  0.032  12.0  5  3.25  0.99286   8.800000  0.11   \n",
      "4878  6.2   81.0  0.35   0.90  0.035   6.0  4  3.24  0.99234   9.500000  0.13   \n",
      "4879  6.6  170.0  0.50   8.10  0.046  68.0  6  3.15  0.99494   9.533333  1.00   \n",
      "4880  6.6  170.0  0.50   8.10  0.046  68.0  6  3.15  0.99494   9.533333  0.33   \n",
      "4881  5.0  118.0  0.50  11.75  0.030  34.0  6  3.07  0.99540   9.400000  0.14   \n",
      "4882  5.5  156.0  0.38   1.30  0.037  45.0  5  3.26  0.99184  10.700000  0.13   \n",
      "4883  4.9  148.0  0.35   1.90  0.035  60.0  6  3.27  0.98964  11.500000  0.17   \n",
      "4884  6.5  174.0  0.50   8.30  0.048  68.0  5  3.14  0.99492   9.600000  0.20   \n",
      "4885  6.6  170.0  0.50   8.10  0.046  68.0  6  3.15  0.99494   9.550000  0.20   \n",
      "4886  6.2  121.0  1.08   5.70  0.028  45.0  7  3.21  0.99168  12.150000  0.17   \n",
      "4887  6.2   56.0  0.79   1.90  0.023   5.0  7  3.04  0.98928  13.000000  0.50   \n",
      "4888  6.8  127.0  0.54   1.20  0.052  38.0  5  3.04  0.99330   9.200000  0.11   \n",
      "4889  4.9  118.0  0.50  11.75  0.030  34.0  6  3.07  0.99540   9.400000  0.25   \n",
      "4890  6.1  100.0  0.44   2.20  0.036  25.0  6  3.06  0.98938  11.800000  0.20   \n",
      "4891  5.7  121.0  0.46   0.90  0.038  38.0  6  3.24  0.99074  10.600000  0.11   \n",
      "4892  6.5  112.0  0.54   1.30  0.032  29.0  5  3.29  0.99298   9.700000  0.10   \n",
      "4893  6.2   92.0  0.50   1.60  0.039  24.0  6  3.27  0.99114  11.200000  0.25   \n",
      "4894  6.6  168.0  0.46   8.00  0.047  57.0  5  3.15  0.99490   9.600000  0.13   \n",
      "4895  6.5  111.0  0.46   1.20  0.041  30.0  6  2.99  0.99254   9.400000  0.20   \n",
      "4896  5.5  110.0  0.38   1.10  0.022  20.0  7  3.34  0.98869  12.800000  0.20   \n",
      "4897  6.0   98.0  0.32   0.80  0.020  22.0  6  3.26  0.98941  11.800000  0.17   \n",
      "\n",
      "         W     C      V  \n",
      "0     0.20  0.36  0.270  \n",
      "1     0.71  0.34  0.300  \n",
      "2     0.93  0.40  0.280  \n",
      "3     0.30  0.32  0.230  \n",
      "4     0.66  0.32  0.230  \n",
      "5     0.56  0.40  0.280  \n",
      "6     0.98  0.16  0.320  \n",
      "7     0.55  0.36  0.270  \n",
      "8     0.29  0.34  0.300  \n",
      "9     0.40  0.43  0.220  \n",
      "10    0.85  0.41  0.270  \n",
      "11    0.74  0.40  0.230  \n",
      "12    0.04  0.37  0.180  \n",
      "13    0.51  0.40  0.160  \n",
      "14    0.83  0.62  0.420  \n",
      "15    0.39  0.38  0.170  \n",
      "16    0.08  0.04  0.480  \n",
      "17    0.58  0.48  0.660  \n",
      "18    0.84  0.42  0.340  \n",
      "19    0.31  0.14  0.310  \n",
      "20    0.70  0.48  0.660  \n",
      "21    0.51  0.38  0.310  \n",
      "22    0.37  0.42  0.260  \n",
      "23    0.87  0.14  0.670  \n",
      "24    0.62  0.41  0.270  \n",
      "25    0.24  0.32  0.250  \n",
      "26    0.88  0.35  0.240  \n",
      "27    0.20  0.39  0.280  \n",
      "28    0.30  0.48  0.270  \n",
      "29    0.39  0.36  0.320  \n",
      "...    ...   ...    ...  \n",
      "4868  0.13  0.31  0.230  \n",
      "4869  0.79  0.33  0.240  \n",
      "4870  0.67  0.28  0.320  \n",
      "4871  0.35  0.40  0.200  \n",
      "4872  0.50  0.41  0.420  \n",
      "4873  0.72  0.32  0.210  \n",
      "4874  0.07  0.36  0.200  \n",
      "4875  0.62  0.26  0.220  \n",
      "4876  1.00  0.42  0.380  \n",
      "4877  0.47  0.00  0.540  \n",
      "4878  0.24  0.02  0.530  \n",
      "4879  0.00  0.40  0.340  \n",
      "4880  0.23  0.40  0.340  \n",
      "4881  0.59  0.27  0.235  \n",
      "4882  0.06  0.13  0.320  \n",
      "4883  0.55  0.17  0.470  \n",
      "4884  0.61  0.38  0.330  \n",
      "4885  0.33  0.40  0.340  \n",
      "4886  0.48  0.28  0.210  \n",
      "4887  0.54  0.22  0.410  \n",
      "4888  0.36  0.36  0.220  \n",
      "4889  0.13  0.27  0.235  \n",
      "4890  0.91  0.29  0.340  \n",
      "4891  0.30  0.32  0.210  \n",
      "4892  0.18  0.38  0.230  \n",
      "4893  0.33  0.29  0.210  \n",
      "4894  0.89  0.36  0.320  \n",
      "4895  0.96  0.19  0.240  \n",
      "4896  0.15  0.30  0.290  \n",
      "4897  0.50  0.38  0.210  \n",
      "\n",
      "[4898 rows x 14 columns]\n"
     ]
    }
   ],
   "source": [
    "import pandas as pd\n",
    "import csv\n",
    "al=pd.read_csv(\"al.csv\",sep=\";\")\n",
    "print(al)"
   ]
  },
  {
   "cell_type": "markdown",
   "metadata": {},
   "source": [
    "<b>• Compute descriptive statistics using pandas methods."
   ]
  },
  {
   "cell_type": "code",
   "execution_count": null,
   "metadata": {},
   "outputs": [],
   "source": [
    "# if item==\"NaN\"\n",
    "#print (\"missing number\")\n",
    "#else:\n",
    "#print(\"none\")"
   ]
  },
  {
   "cell_type": "code",
   "execution_count": 5,
   "metadata": {},
   "outputs": [
    {
     "data": {
      "text/plain": [
       "False"
      ]
     },
     "execution_count": 5,
     "metadata": {},
     "output_type": "execute_result"
    }
   ],
   "source": [
    "al.isnull().values.any()"
   ]
  },
  {
   "cell_type": "code",
   "execution_count": 6,
   "metadata": {},
   "outputs": [
    {
     "name": "stdout",
     "output_type": "stream",
     "text": [
      "299 µs ± 46.2 µs per loop (mean ± std. dev. of 7 runs, 1000 loops each)\n",
      "1.45 ms ± 46 µs per loop (mean ± std. dev. of 7 runs, 1000 loops each)\n"
     ]
    }
   ],
   "source": [
    "%timeit al.isnull().values.any()\n",
    "%timeit al.isnull().sum().sum()"
   ]
  },
  {
   "cell_type": "code",
   "execution_count": 7,
   "metadata": {},
   "outputs": [
    {
     "data": {
      "text/html": [
       "<div>\n",
       "<style scoped>\n",
       "    .dataframe tbody tr th:only-of-type {\n",
       "        vertical-align: middle;\n",
       "    }\n",
       "\n",
       "    .dataframe tbody tr th {\n",
       "        vertical-align: top;\n",
       "    }\n",
       "\n",
       "    .dataframe thead th {\n",
       "        text-align: right;\n",
       "    }\n",
       "</style>\n",
       "<table border=\"1\" class=\"dataframe\">\n",
       "  <thead>\n",
       "    <tr style=\"text-align: right;\">\n",
       "      <th></th>\n",
       "      <th>A</th>\n",
       "      <th>T</th>\n",
       "      <th>S</th>\n",
       "      <th>R</th>\n",
       "      <th>H</th>\n",
       "      <th>F</th>\n",
       "      <th>Q</th>\n",
       "      <th>P</th>\n",
       "      <th>D</th>\n",
       "      <th>L</th>\n",
       "      <th>X</th>\n",
       "      <th>W</th>\n",
       "      <th>C</th>\n",
       "      <th>V</th>\n",
       "    </tr>\n",
       "  </thead>\n",
       "  <tbody>\n",
       "    <tr>\n",
       "      <th>count</th>\n",
       "      <td>4898.000000</td>\n",
       "      <td>4898.000000</td>\n",
       "      <td>4898.000000</td>\n",
       "      <td>4898.000000</td>\n",
       "      <td>4898.000000</td>\n",
       "      <td>4898.000000</td>\n",
       "      <td>4898.000000</td>\n",
       "      <td>4898.000000</td>\n",
       "      <td>4898.000000</td>\n",
       "      <td>4898.000000</td>\n",
       "      <td>4898.000000</td>\n",
       "      <td>4898.000000</td>\n",
       "      <td>4898.000000</td>\n",
       "      <td>4898.000000</td>\n",
       "    </tr>\n",
       "    <tr>\n",
       "      <th>mean</th>\n",
       "      <td>6.854788</td>\n",
       "      <td>138.360657</td>\n",
       "      <td>0.489847</td>\n",
       "      <td>6.391415</td>\n",
       "      <td>0.045772</td>\n",
       "      <td>35.308085</td>\n",
       "      <td>5.877909</td>\n",
       "      <td>3.188267</td>\n",
       "      <td>0.994027</td>\n",
       "      <td>10.514267</td>\n",
       "      <td>0.287717</td>\n",
       "      <td>0.506831</td>\n",
       "      <td>0.334192</td>\n",
       "      <td>0.278241</td>\n",
       "    </tr>\n",
       "    <tr>\n",
       "      <th>std</th>\n",
       "      <td>0.843868</td>\n",
       "      <td>42.498065</td>\n",
       "      <td>0.114126</td>\n",
       "      <td>5.072058</td>\n",
       "      <td>0.021848</td>\n",
       "      <td>17.007137</td>\n",
       "      <td>0.885639</td>\n",
       "      <td>0.151001</td>\n",
       "      <td>0.002991</td>\n",
       "      <td>1.230621</td>\n",
       "      <td>0.255864</td>\n",
       "      <td>0.290825</td>\n",
       "      <td>0.121020</td>\n",
       "      <td>0.100795</td>\n",
       "    </tr>\n",
       "    <tr>\n",
       "      <th>min</th>\n",
       "      <td>3.800000</td>\n",
       "      <td>9.000000</td>\n",
       "      <td>0.220000</td>\n",
       "      <td>0.600000</td>\n",
       "      <td>0.009000</td>\n",
       "      <td>2.000000</td>\n",
       "      <td>3.000000</td>\n",
       "      <td>2.720000</td>\n",
       "      <td>0.987110</td>\n",
       "      <td>8.000000</td>\n",
       "      <td>0.100000</td>\n",
       "      <td>0.000000</td>\n",
       "      <td>0.000000</td>\n",
       "      <td>0.080000</td>\n",
       "    </tr>\n",
       "    <tr>\n",
       "      <th>25%</th>\n",
       "      <td>6.300000</td>\n",
       "      <td>108.000000</td>\n",
       "      <td>0.410000</td>\n",
       "      <td>1.700000</td>\n",
       "      <td>0.036000</td>\n",
       "      <td>23.000000</td>\n",
       "      <td>5.000000</td>\n",
       "      <td>3.090000</td>\n",
       "      <td>0.991723</td>\n",
       "      <td>9.500000</td>\n",
       "      <td>0.130000</td>\n",
       "      <td>0.260000</td>\n",
       "      <td>0.270000</td>\n",
       "      <td>0.210000</td>\n",
       "    </tr>\n",
       "    <tr>\n",
       "      <th>50%</th>\n",
       "      <td>6.800000</td>\n",
       "      <td>134.000000</td>\n",
       "      <td>0.470000</td>\n",
       "      <td>5.200000</td>\n",
       "      <td>0.043000</td>\n",
       "      <td>34.000000</td>\n",
       "      <td>6.000000</td>\n",
       "      <td>3.180000</td>\n",
       "      <td>0.993740</td>\n",
       "      <td>10.400000</td>\n",
       "      <td>0.200000</td>\n",
       "      <td>0.510000</td>\n",
       "      <td>0.320000</td>\n",
       "      <td>0.260000</td>\n",
       "    </tr>\n",
       "    <tr>\n",
       "      <th>75%</th>\n",
       "      <td>7.300000</td>\n",
       "      <td>167.000000</td>\n",
       "      <td>0.550000</td>\n",
       "      <td>9.900000</td>\n",
       "      <td>0.050000</td>\n",
       "      <td>46.000000</td>\n",
       "      <td>6.000000</td>\n",
       "      <td>3.280000</td>\n",
       "      <td>0.996100</td>\n",
       "      <td>11.400000</td>\n",
       "      <td>0.330000</td>\n",
       "      <td>0.760000</td>\n",
       "      <td>0.390000</td>\n",
       "      <td>0.320000</td>\n",
       "    </tr>\n",
       "    <tr>\n",
       "      <th>max</th>\n",
       "      <td>14.200000</td>\n",
       "      <td>440.000000</td>\n",
       "      <td>1.080000</td>\n",
       "      <td>65.800000</td>\n",
       "      <td>0.346000</td>\n",
       "      <td>289.000000</td>\n",
       "      <td>9.000000</td>\n",
       "      <td>3.820000</td>\n",
       "      <td>1.038980</td>\n",
       "      <td>14.200000</td>\n",
       "      <td>1.000000</td>\n",
       "      <td>1.000000</td>\n",
       "      <td>1.660000</td>\n",
       "      <td>1.100000</td>\n",
       "    </tr>\n",
       "  </tbody>\n",
       "</table>\n",
       "</div>"
      ],
      "text/plain": [
       "                 A            T            S            R            H  \\\n",
       "count  4898.000000  4898.000000  4898.000000  4898.000000  4898.000000   \n",
       "mean      6.854788   138.360657     0.489847     6.391415     0.045772   \n",
       "std       0.843868    42.498065     0.114126     5.072058     0.021848   \n",
       "min       3.800000     9.000000     0.220000     0.600000     0.009000   \n",
       "25%       6.300000   108.000000     0.410000     1.700000     0.036000   \n",
       "50%       6.800000   134.000000     0.470000     5.200000     0.043000   \n",
       "75%       7.300000   167.000000     0.550000     9.900000     0.050000   \n",
       "max      14.200000   440.000000     1.080000    65.800000     0.346000   \n",
       "\n",
       "                 F            Q            P            D            L  \\\n",
       "count  4898.000000  4898.000000  4898.000000  4898.000000  4898.000000   \n",
       "mean     35.308085     5.877909     3.188267     0.994027    10.514267   \n",
       "std      17.007137     0.885639     0.151001     0.002991     1.230621   \n",
       "min       2.000000     3.000000     2.720000     0.987110     8.000000   \n",
       "25%      23.000000     5.000000     3.090000     0.991723     9.500000   \n",
       "50%      34.000000     6.000000     3.180000     0.993740    10.400000   \n",
       "75%      46.000000     6.000000     3.280000     0.996100    11.400000   \n",
       "max     289.000000     9.000000     3.820000     1.038980    14.200000   \n",
       "\n",
       "                 X            W            C            V  \n",
       "count  4898.000000  4898.000000  4898.000000  4898.000000  \n",
       "mean      0.287717     0.506831     0.334192     0.278241  \n",
       "std       0.255864     0.290825     0.121020     0.100795  \n",
       "min       0.100000     0.000000     0.000000     0.080000  \n",
       "25%       0.130000     0.260000     0.270000     0.210000  \n",
       "50%       0.200000     0.510000     0.320000     0.260000  \n",
       "75%       0.330000     0.760000     0.390000     0.320000  \n",
       "max       1.000000     1.000000     1.660000     1.100000  "
      ]
     },
     "execution_count": 7,
     "metadata": {},
     "output_type": "execute_result"
    }
   ],
   "source": [
    "# how to compute the descriptive statistics\n",
    "al.describe()"
   ]
  },
  {
   "cell_type": "markdown",
   "metadata": {},
   "source": [
    "<b> • Draw the frequency histogram and the boxplot using pandas methods."
   ]
  },
  {
   "cell_type": "code",
   "execution_count": 8,
   "metadata": {},
   "outputs": [
    {
     "data": {
      "image/png": "[encoded data removed]",
      "text/plain": [
       "<matplotlib.figure.Figure at 0x17056ecfa58>"
      ]
     },
     "metadata": {},
     "output_type": "display_data"
    }
   ],
   "source": [
    "import matplotlib.pyplot as plt\n",
    "%matplotlib inline\n",
    "al.hist(figsize=(15,10), bins = 20)\n",
    "plt.show()"
   ]
  },
  {
   "cell_type": "markdown",
   "metadata": {},
   "source": [
    "<b>• Calculate the correlation matrix and represent it with matplotlib"
   ]
  },
  {
   "cell_type": "code",
   "execution_count": 9,
   "metadata": {},
   "outputs": [
    {
     "data": {
      "text/html": [
       "<div>\n",
       "<style scoped>\n",
       "    .dataframe tbody tr th:only-of-type {\n",
       "        vertical-align: middle;\n",
       "    }\n",
       "\n",
       "    .dataframe tbody tr th {\n",
       "        vertical-align: top;\n",
       "    }\n",
       "\n",
       "    .dataframe thead th {\n",
       "        text-align: right;\n",
       "    }\n",
       "</style>\n",
       "<table border=\"1\" class=\"dataframe\">\n",
       "  <thead>\n",
       "    <tr style=\"text-align: right;\">\n",
       "      <th></th>\n",
       "      <th>A</th>\n",
       "      <th>T</th>\n",
       "      <th>S</th>\n",
       "      <th>R</th>\n",
       "      <th>H</th>\n",
       "      <th>F</th>\n",
       "      <th>Q</th>\n",
       "      <th>P</th>\n",
       "      <th>D</th>\n",
       "      <th>L</th>\n",
       "      <th>X</th>\n",
       "      <th>W</th>\n",
       "      <th>C</th>\n",
       "      <th>V</th>\n",
       "    </tr>\n",
       "  </thead>\n",
       "  <tbody>\n",
       "    <tr>\n",
       "      <th>A</th>\n",
       "      <td>1.000000</td>\n",
       "      <td>0.091070</td>\n",
       "      <td>-0.017143</td>\n",
       "      <td>0.089021</td>\n",
       "      <td>0.023086</td>\n",
       "      <td>-0.049396</td>\n",
       "      <td>-0.113663</td>\n",
       "      <td>-0.425858</td>\n",
       "      <td>0.265331</td>\n",
       "      <td>-0.120881</td>\n",
       "      <td>0.016758</td>\n",
       "      <td>0.028906</td>\n",
       "      <td>0.289181</td>\n",
       "      <td>-0.022697</td>\n",
       "    </tr>\n",
       "    <tr>\n",
       "      <th>T</th>\n",
       "      <td>0.091070</td>\n",
       "      <td>1.000000</td>\n",
       "      <td>0.134562</td>\n",
       "      <td>0.401439</td>\n",
       "      <td>0.198910</td>\n",
       "      <td>0.615501</td>\n",
       "      <td>-0.174737</td>\n",
       "      <td>0.002321</td>\n",
       "      <td>0.529881</td>\n",
       "      <td>-0.448892</td>\n",
       "      <td>-0.026373</td>\n",
       "      <td>-0.007767</td>\n",
       "      <td>0.121131</td>\n",
       "      <td>0.089261</td>\n",
       "    </tr>\n",
       "    <tr>\n",
       "      <th>S</th>\n",
       "      <td>-0.017143</td>\n",
       "      <td>0.134562</td>\n",
       "      <td>1.000000</td>\n",
       "      <td>-0.026664</td>\n",
       "      <td>0.016763</td>\n",
       "      <td>0.059217</td>\n",
       "      <td>0.053678</td>\n",
       "      <td>0.155951</td>\n",
       "      <td>0.074493</td>\n",
       "      <td>-0.017433</td>\n",
       "      <td>-0.004754</td>\n",
       "      <td>-0.020636</td>\n",
       "      <td>0.062331</td>\n",
       "      <td>-0.035728</td>\n",
       "    </tr>\n",
       "    <tr>\n",
       "      <th>R</th>\n",
       "      <td>0.089021</td>\n",
       "      <td>0.401439</td>\n",
       "      <td>-0.026664</td>\n",
       "      <td>1.000000</td>\n",
       "      <td>0.088685</td>\n",
       "      <td>0.299098</td>\n",
       "      <td>-0.097577</td>\n",
       "      <td>-0.194133</td>\n",
       "      <td>0.838966</td>\n",
       "      <td>-0.450631</td>\n",
       "      <td>-0.003419</td>\n",
       "      <td>-0.023358</td>\n",
       "      <td>0.094212</td>\n",
       "      <td>0.064286</td>\n",
       "    </tr>\n",
       "    <tr>\n",
       "      <th>H</th>\n",
       "      <td>0.023086</td>\n",
       "      <td>0.198910</td>\n",
       "      <td>0.016763</td>\n",
       "      <td>0.088685</td>\n",
       "      <td>1.000000</td>\n",
       "      <td>0.101392</td>\n",
       "      <td>-0.209934</td>\n",
       "      <td>-0.090439</td>\n",
       "      <td>0.257211</td>\n",
       "      <td>-0.360189</td>\n",
       "      <td>0.004435</td>\n",
       "      <td>0.000299</td>\n",
       "      <td>0.114364</td>\n",
       "      <td>0.070512</td>\n",
       "    </tr>\n",
       "    <tr>\n",
       "      <th>F</th>\n",
       "      <td>-0.049396</td>\n",
       "      <td>0.615501</td>\n",
       "      <td>0.059217</td>\n",
       "      <td>0.299098</td>\n",
       "      <td>0.101392</td>\n",
       "      <td>1.000000</td>\n",
       "      <td>0.008158</td>\n",
       "      <td>-0.000618</td>\n",
       "      <td>0.294210</td>\n",
       "      <td>-0.250104</td>\n",
       "      <td>-0.019711</td>\n",
       "      <td>-0.032126</td>\n",
       "      <td>0.094077</td>\n",
       "      <td>-0.097012</td>\n",
       "    </tr>\n",
       "    <tr>\n",
       "      <th>Q</th>\n",
       "      <td>-0.113663</td>\n",
       "      <td>-0.174737</td>\n",
       "      <td>0.053678</td>\n",
       "      <td>-0.097577</td>\n",
       "      <td>-0.209934</td>\n",
       "      <td>0.008158</td>\n",
       "      <td>1.000000</td>\n",
       "      <td>0.099427</td>\n",
       "      <td>-0.307123</td>\n",
       "      <td>0.435575</td>\n",
       "      <td>0.008439</td>\n",
       "      <td>-0.005141</td>\n",
       "      <td>-0.009209</td>\n",
       "      <td>-0.194723</td>\n",
       "    </tr>\n",
       "    <tr>\n",
       "      <th>P</th>\n",
       "      <td>-0.425858</td>\n",
       "      <td>0.002321</td>\n",
       "      <td>0.155951</td>\n",
       "      <td>-0.194133</td>\n",
       "      <td>-0.090439</td>\n",
       "      <td>-0.000618</td>\n",
       "      <td>0.099427</td>\n",
       "      <td>1.000000</td>\n",
       "      <td>-0.093591</td>\n",
       "      <td>0.121432</td>\n",
       "      <td>-0.009116</td>\n",
       "      <td>-0.016902</td>\n",
       "      <td>-0.163748</td>\n",
       "      <td>-0.031915</td>\n",
       "    </tr>\n",
       "    <tr>\n",
       "      <th>D</th>\n",
       "      <td>0.265331</td>\n",
       "      <td>0.529881</td>\n",
       "      <td>0.074493</td>\n",
       "      <td>0.838966</td>\n",
       "      <td>0.257211</td>\n",
       "      <td>0.294210</td>\n",
       "      <td>-0.307123</td>\n",
       "      <td>-0.093591</td>\n",
       "      <td>1.000000</td>\n",
       "      <td>-0.780138</td>\n",
       "      <td>-0.005002</td>\n",
       "      <td>-0.014888</td>\n",
       "      <td>0.149503</td>\n",
       "      <td>0.027114</td>\n",
       "    </tr>\n",
       "    <tr>\n",
       "      <th>L</th>\n",
       "      <td>-0.120881</td>\n",
       "      <td>-0.448892</td>\n",
       "      <td>-0.017433</td>\n",
       "      <td>-0.450631</td>\n",
       "      <td>-0.360189</td>\n",
       "      <td>-0.250104</td>\n",
       "      <td>0.435575</td>\n",
       "      <td>0.121432</td>\n",
       "      <td>-0.780138</td>\n",
       "      <td>1.000000</td>\n",
       "      <td>-0.001782</td>\n",
       "      <td>0.008410</td>\n",
       "      <td>-0.075729</td>\n",
       "      <td>0.067718</td>\n",
       "    </tr>\n",
       "    <tr>\n",
       "      <th>X</th>\n",
       "      <td>0.016758</td>\n",
       "      <td>-0.026373</td>\n",
       "      <td>-0.004754</td>\n",
       "      <td>-0.003419</td>\n",
       "      <td>0.004435</td>\n",
       "      <td>-0.019711</td>\n",
       "      <td>0.008439</td>\n",
       "      <td>-0.009116</td>\n",
       "      <td>-0.005002</td>\n",
       "      <td>-0.001782</td>\n",
       "      <td>1.000000</td>\n",
       "      <td>-0.010646</td>\n",
       "      <td>-0.004674</td>\n",
       "      <td>-0.004403</td>\n",
       "    </tr>\n",
       "    <tr>\n",
       "      <th>W</th>\n",
       "      <td>0.028906</td>\n",
       "      <td>-0.007767</td>\n",
       "      <td>-0.020636</td>\n",
       "      <td>-0.023358</td>\n",
       "      <td>0.000299</td>\n",
       "      <td>-0.032126</td>\n",
       "      <td>-0.005141</td>\n",
       "      <td>-0.016902</td>\n",
       "      <td>-0.014888</td>\n",
       "      <td>0.008410</td>\n",
       "      <td>-0.010646</td>\n",
       "      <td>1.000000</td>\n",
       "      <td>-0.003756</td>\n",
       "      <td>0.017641</td>\n",
       "    </tr>\n",
       "    <tr>\n",
       "      <th>C</th>\n",
       "      <td>0.289181</td>\n",
       "      <td>0.121131</td>\n",
       "      <td>0.062331</td>\n",
       "      <td>0.094212</td>\n",
       "      <td>0.114364</td>\n",
       "      <td>0.094077</td>\n",
       "      <td>-0.009209</td>\n",
       "      <td>-0.163748</td>\n",
       "      <td>0.149503</td>\n",
       "      <td>-0.075729</td>\n",
       "      <td>-0.004674</td>\n",
       "      <td>-0.003756</td>\n",
       "      <td>1.000000</td>\n",
       "      <td>-0.149472</td>\n",
       "    </tr>\n",
       "    <tr>\n",
       "      <th>V</th>\n",
       "      <td>-0.022697</td>\n",
       "      <td>0.089261</td>\n",
       "      <td>-0.035728</td>\n",
       "      <td>0.064286</td>\n",
       "      <td>0.070512</td>\n",
       "      <td>-0.097012</td>\n",
       "      <td>-0.194723</td>\n",
       "      <td>-0.031915</td>\n",
       "      <td>0.027114</td>\n",
       "      <td>0.067718</td>\n",
       "      <td>-0.004403</td>\n",
       "      <td>0.017641</td>\n",
       "      <td>-0.149472</td>\n",
       "      <td>1.000000</td>\n",
       "    </tr>\n",
       "  </tbody>\n",
       "</table>\n",
       "</div>"
      ],
      "text/plain": [
       "          A         T         S         R         H         F         Q  \\\n",
       "A  1.000000  0.091070 -0.017143  0.089021  0.023086 -0.049396 -0.113663   \n",
       "T  0.091070  1.000000  0.134562  0.401439  0.198910  0.615501 -0.174737   \n",
       "S -0.017143  0.134562  1.000000 -0.026664  0.016763  0.059217  0.053678   \n",
       "R  0.089021  0.401439 -0.026664  1.000000  0.088685  0.299098 -0.097577   \n",
       "H  0.023086  0.198910  0.016763  0.088685  1.000000  0.101392 -0.209934   \n",
       "F -0.049396  0.615501  0.059217  0.299098  0.101392  1.000000  0.008158   \n",
       "Q -0.113663 -0.174737  0.053678 -0.097577 -0.209934  0.008158  1.000000   \n",
       "P -0.425858  0.002321  0.155951 -0.194133 -0.090439 -0.000618  0.099427   \n",
       "D  0.265331  0.529881  0.074493  0.838966  0.257211  0.294210 -0.307123   \n",
       "L -0.120881 -0.448892 -0.017433 -0.450631 -0.360189 -0.250104  0.435575   \n",
       "X  0.016758 -0.026373 -0.004754 -0.003419  0.004435 -0.019711  0.008439   \n",
       "W  0.028906 -0.007767 -0.020636 -0.023358  0.000299 -0.032126 -0.005141   \n",
       "C  0.289181  0.121131  0.062331  0.094212  0.114364  0.094077 -0.009209   \n",
       "V -0.022697  0.089261 -0.035728  0.064286  0.070512 -0.097012 -0.194723   \n",
       "\n",
       "          P         D         L         X         W         C         V  \n",
       "A -0.425858  0.265331 -0.120881  0.016758  0.028906  0.289181 -0.022697  \n",
       "T  0.002321  0.529881 -0.448892 -0.026373 -0.007767  0.121131  0.089261  \n",
       "S  0.155951  0.074493 -0.017433 -0.004754 -0.020636  0.062331 -0.035728  \n",
       "R -0.194133  0.838966 -0.450631 -0.003419 -0.023358  0.094212  0.064286  \n",
       "H -0.090439  0.257211 -0.360189  0.004435  0.000299  0.114364  0.070512  \n",
       "F -0.000618  0.294210 -0.250104 -0.019711 -0.032126  0.094077 -0.097012  \n",
       "Q  0.099427 -0.307123  0.435575  0.008439 -0.005141 -0.009209 -0.194723  \n",
       "P  1.000000 -0.093591  0.121432 -0.009116 -0.016902 -0.163748 -0.031915  \n",
       "D -0.093591  1.000000 -0.780138 -0.005002 -0.014888  0.149503  0.027114  \n",
       "L  0.121432 -0.780138  1.000000 -0.001782  0.008410 -0.075729  0.067718  \n",
       "X -0.009116 -0.005002 -0.001782  1.000000 -0.010646 -0.004674 -0.004403  \n",
       "W -0.016902 -0.014888  0.008410 -0.010646  1.000000 -0.003756  0.017641  \n",
       "C -0.163748  0.149503 -0.075729 -0.004674 -0.003756  1.000000 -0.149472  \n",
       "V -0.031915  0.027114  0.067718 -0.004403  0.017641 -0.149472  1.000000  "
      ]
     },
     "execution_count": 9,
     "metadata": {},
     "output_type": "execute_result"
    }
   ],
   "source": [
    "correlations= al.corr()\n",
    "correlations"
   ]
  },
  {
   "cell_type": "code",
   "execution_count": 10,
   "metadata": {},
   "outputs": [
    {
     "data": {
      "text/plain": [
       "A    C\n",
       "T    F\n",
       "S    P\n",
       "R    D\n",
       "H    D\n",
       "F    T\n",
       "Q    L\n",
       "P    S\n",
       "D    R\n",
       "L    Q\n",
       "X    A\n",
       "W    A\n",
       "C    A\n",
       "V    T\n",
       "dtype: object"
      ]
     },
     "execution_count": 10,
     "metadata": {},
     "output_type": "execute_result"
    }
   ],
   "source": [
    "import numpy as np\n",
    "np.fill_diagonal(correlations.values,0)\n",
    "correlations.idxmax()"
   ]
  },
  {
   "cell_type": "code",
   "execution_count": 11,
   "metadata": {},
   "outputs": [
    {
     "name": "stdout",
     "output_type": "stream",
     "text": [
      "Boxplot for the headers: ['A', 'T', 'S', 'R', 'H', 'F', 'Q', 'P', 'D', 'L', 'X', 'W', 'C', 'V']\n"
     ]
    },
    {
     "data": {
      "image/png": "[encoded data removed]",
      "text/plain": [
       "<matplotlib.figure.Figure at 0x170574d1cf8>"
      ]
     },
     "metadata": {},
     "output_type": "display_data"
    },
    {
     "data": {
      "image/png": "[encoded data removed]",
      "text/plain": [
       "<matplotlib.figure.Figure at 0x170576b2dd8>"
      ]
     },
     "metadata": {},
     "output_type": "display_data"
    }
   ],
   "source": [
    "print(\"Boxplot for the headers:\", list(al))\n",
    "plt.figure(figsize=(18,5))\n",
    "plt.subplot(1,3,1)\n",
    "al.boxplot(column=['T','F'])\n",
    "plt.subplot(1,3,2)\n",
    "al.boxplot(column=['R'])\n",
    "plt.subplot(1,3,3)\n",
    "al.boxplot(column=['A', 'L'])\n",
    "plt.figure(figsize=(18,5))\n",
    "plt.subplot(1,3,1)\n",
    "al.boxplot(column=['S', 'H', 'D', 'X', 'W', 'C', 'V'])\n",
    "plt.subplot(1,3,2)\n",
    "al.boxplot(column=['Q'])\n",
    "plt.subplot(1,3,3)\n",
    "al.boxplot(column=['P'])\n",
    "plt.show()\n"
   ]
  },
  {
   "cell_type": "code",
   "execution_count": 12,
   "metadata": {},
   "outputs": [
    {
     "data": {
      "text/plain": [
       "pandas.core.frame.DataFrame"
      ]
     },
     "execution_count": 12,
     "metadata": {},
     "output_type": "execute_result"
    }
   ],
   "source": [
    "type(correlations)"
   ]
  },
  {
   "cell_type": "code",
   "execution_count": 13,
   "metadata": {},
   "outputs": [
    {
     "data": {
      "text/plain": [
       "196"
      ]
     },
     "execution_count": 13,
     "metadata": {},
     "output_type": "execute_result"
    }
   ],
   "source": [
    "correlations.size"
   ]
  },
  {
   "cell_type": "code",
   "execution_count": 14,
   "metadata": {},
   "outputs": [
    {
     "data": {
      "text/plain": [
       "(14, 14)"
      ]
     },
     "execution_count": 14,
     "metadata": {},
     "output_type": "execute_result"
    }
   ],
   "source": [
    "correlations.shape"
   ]
  },
  {
   "cell_type": "code",
   "execution_count": 15,
   "metadata": {},
   "outputs": [
    {
     "data": {
      "text/plain": [
       "['A', 'T', 'S', 'R', 'H', 'F', 'Q', 'P', 'D', 'L', 'X', 'W', 'C', 'V']"
      ]
     },
     "execution_count": 15,
     "metadata": {},
     "output_type": "execute_result"
    }
   ],
   "source": [
    "list(correlations.columns)"
   ]
  },
  {
   "cell_type": "code",
   "execution_count": 16,
   "metadata": {},
   "outputs": [
    {
     "data": {
      "image/png": "[encoded data removed]",
      "text/plain": [
       "<matplotlib.figure.Figure at 0x17058aed748>"
      ]
     },
     "metadata": {},
     "output_type": "display_data"
    }
   ],
   "source": [
    "import matplotlib.pyplot as plt\n",
    "import numpy as np\n",
    "\n",
    "# plot correlation matrix\n",
    "\n",
    "names = list(correlations.columns)\n",
    "fig = plt.figure(figsize=[15,15])\n",
    "ax = fig.add_subplot(111)\n",
    "cax = ax.matshow(correlations, vmin=-1, vmax=1)\n",
    "fig.colorbar(cax)\n",
    "ticks = np.arange(0,14,1)\n",
    "ax.set_xticks(ticks)\n",
    "ax.set_yticks(ticks)\n",
    "ax.set_xticklabels(names)\n",
    "ax.set_yticklabels(names)\n",
    "plt.show()\n"
   ]
  },
  {
   "cell_type": "code",
   "execution_count": 17,
   "metadata": {},
   "outputs": [
    {
     "data": {
      "image/png": "[encoded data removed]",
      "text/plain": [
       "<matplotlib.figure.Figure at 0x17058a67c50>"
      ]
     },
     "metadata": {},
     "output_type": "display_data"
    }
   ],
   "source": [
    "plt.figure(figsize=(20,5))\n",
    "plt.subplot(1,3,1);\n",
    "plt.scatter(al['D'], al['L']);\n",
    "plt.subplot(1,3,2);\n",
    "plt.scatter(al['D'], al['R']);\n",
    "plt.subplot(1,3,3);\n",
    "plt.scatter(al['R'], al['T']);"
   ]
  },
  {
   "cell_type": "markdown",
   "metadata": {},
   "source": [
    "<b> 2. SAMPLE MEAN AND SAMPLE STANDARD DEVIATIONS FOR ALL VARIABLE <b>"
   ]
  },
  {
   "cell_type": "code",
   "execution_count": 18,
   "metadata": {},
   "outputs": [
    {
     "name": "stdout",
     "output_type": "stream",
     "text": [
      "Sample Mean 6.6450000000000005\n",
      "Sample Standard Deviation 0.8182145195485107\n",
      "Sample Mean 140.8\n",
      "Sample Standard Deviation 44.99622206363552\n",
      "Sample Mean 0.45725\n",
      "Sample Standard Deviation 0.11693988840425666\n",
      "Sample Mean 4.20125\n",
      "Sample Standard Deviation 3.84646733217637\n",
      "Sample Mean 0.04605\n",
      "Sample Standard Deviation 0.02355838491917474\n",
      "Sample Mean 35.025\n",
      "Sample Standard Deviation 19.386190316820887\n",
      "Sample Mean 5.675\n",
      "Sample Standard Deviation 0.8481597726843688\n",
      "Sample Mean 3.2287499999999993\n",
      "Sample Standard Deviation 0.18713881879503247\n",
      "Sample Mean 0.994178375\n",
      "Sample Standard Deviation 0.002702370345525393\n",
      "Sample Mean 10.4375\n",
      "Sample Standard Deviation 1.241508658850191\n",
      "Sample Mean 0.27925000000000005\n",
      "Sample Standard Deviation 0.2568694950748337\n",
      "Sample Mean 0.5890000000000001\n",
      "Sample Standard Deviation 0.2769007042244566\n",
      "Sample Mean 0.30575\n",
      "Sample Standard Deviation 0.09643359113918759\n",
      "Sample Mean 0.29174999999999995\n",
      "Sample Standard Deviation 0.11873578862331272\n"
     ]
    }
   ],
   "source": [
    "from statistics import mean\n",
    "from random import choices\n",
    "columns = list(al)\n",
    "for each in al[columns]:\n",
    "    DR=np.random.choice(al[each].values,40)#random sample(of length 40) of this variable is made\n",
    "    #print(DR)\n",
    "    print('Sample Mean',np.mean(DR))\n",
    "    print('Sample Standard Deviation',np.std(DR))"
   ]
  },
  {
   "cell_type": "code",
   "execution_count": 19,
   "metadata": {},
   "outputs": [
    {
     "name": "stdout",
     "output_type": "stream",
     "text": [
      "{'A': 6.854787668436075, 'T': 138.36065741118824, 'S': 0.4898468762760325, 'R': 6.391414863209486, 'H': 0.0457723560636995, 'F': 35.30808493262556, 'Q': 5.87790935075541, 'P': 3.1882666394446693, 'D': 0.9940273764801896, 'L': 10.514267047770149, 'X': 0.2877174356880408, 'W': 0.5068313597386669, 'C': 0.33419150673743736, 'V': 0.27824111882401087}\n"
     ]
    }
   ],
   "source": [
    "pop_m = dict(al.mean())\n",
    "print(str(pop_m))"
   ]
  },
  {
   "cell_type": "code",
   "execution_count": 20,
   "metadata": {},
   "outputs": [
    {
     "name": "stdout",
     "output_type": "stream",
     "text": [
      "{'A': 0.8438682276875188, 'T': 42.49806455414294, 'S': 0.11412583394883138, 'R': 5.072057784014864, 'H': 0.02184796809372882, 'F': 17.007137325232566, 'Q': 0.8856385749678454, 'P': 0.1510005996150667, 'D': 0.0029909069169369393, 'L': 1.2306205677522648, 'X': 0.2558643935698641, 'W': 0.2908248508543295, 'C': 0.12101980420298301, 'V': 0.10079454842486428}\n"
     ]
    }
   ],
   "source": [
    "pop_std = dict(al.std())\n",
    "print(str(pop_std))"
   ]
  },
  {
   "cell_type": "markdown",
   "metadata": {},
   "source": [
    "<b> 3. Python function that compute confidence interval for population mean under the assumption that all are normally distributed <b> "
   ]
  },
  {
   "cell_type": "code",
   "execution_count": 21,
   "metadata": {},
   "outputs": [
    {
     "name": "stdout",
     "output_type": "stream",
     "text": [
      "confidentInterval 0.95:  A (6.831156947132148, 6.878418389740003)\n",
      "confidentInterval 0.99:  A (6.823742205498518, 6.885833131373633)\n",
      "confidentInterval 0.95:  T (137.17059018684532, 139.55072463553117)\n",
      "confidentInterval 0.99:  T (136.79717623634997, 139.92413858602652)\n",
      "confidentInterval 0.95:  S (0.48665102686834305, 0.493042725683722)\n",
      "confidentInterval 0.99:  S (0.4856482475899099, 0.49404550496215516)\n",
      "confidentInterval 0.95:  R (6.249382754405109, 6.533446972013864)\n",
      "confidentInterval 0.99:  R (6.204816556999654, 6.578013169419319)\n",
      "confidentInterval 0.95:  H (0.04516055053750403, 0.046384161589894966)\n",
      "confidentInterval 0.99:  H (0.04496858094637637, 0.04657613118102263)\n",
      "confidentInterval 0.95:  F (34.83183649818514, 35.78433336706598)\n",
      "confidentInterval 0.99:  F (34.682401402684704, 35.93376846256642)\n",
      "confidentInterval 0.95:  Q (5.853108940389893, 5.902709761120928)\n",
      "confidentInterval 0.99:  Q (5.845327178974181, 5.910491522536639)\n",
      "confidentInterval 0.95:  P (3.1840381912472444, 3.192495087642094)\n",
      "confidentInterval 0.99:  P (3.1827114077567256, 3.193821871132613)\n",
      "confidentInterval 0.95:  D (0.9939436225415044, 0.9941111304188748)\n",
      "confidentInterval 0.99:  D (0.9939173426066619, 0.9941374103537173)\n",
      "confidentInterval 0.95:  L (10.479806155994279, 10.54872793954602)\n",
      "confidentInterval 0.99:  L (10.468993172095217, 10.55954092344508)\n",
      "confidentInterval 0.95:  X (0.28055250166437623, 0.2948823697117054)\n",
      "confidentInterval 0.99:  X (0.27830432083552226, 0.29713055054055937)\n",
      "confidentInterval 0.95:  W (0.4986874330291289, 0.5149752864482049)\n",
      "confidentInterval 0.99:  W (0.49613206827077894, 0.5175306512065548)\n",
      "confidentInterval 0.95:  C (0.3308026064665819, 0.33758040700829284)\n",
      "confidentInterval 0.99:  C (0.3297392525550635, 0.33864376091981124)\n",
      "confidentInterval 0.95:  V (0.2754185834984302, 0.28106365414959156)\n",
      "confidentInterval 0.99:  V (0.27453294103657705, 0.2819492966114447)\n"
     ]
    }
   ],
   "source": [
    "import numpy as np\n",
    "import scipy.stats as st\n",
    "def ConfidenceIntervalForMean(al,percentage):\n",
    "    m=np.mean(al)\n",
    "    standardError=(np.std(al))/((len(al))**(1/2))\n",
    "    if percentage==95:  #mu+2sigma\n",
    "        h=1.96*standardError\n",
    "    elif percentage==99: #mu+3sigma\n",
    "        h=2.575*standardError\n",
    "    return (m-h,m+h)\n",
    "for col in al:\n",
    "    print( 'confidentInterval 0.95: ',col ,(ConfidenceIntervalForMean(al[col], 95)))\n",
    "    print( 'confidentInterval 0.99: ',col,(ConfidenceIntervalForMean(al[col], 99)))\n"
   ]
  },
  {
   "cell_type": "markdown",
   "metadata": {},
   "source": [
    "<b> 4.Calculate confidence interval with (with $ \\alpha $ = 0.05) and (with $ \\alpha $= 0.01)for all variables and check\n",
    "your computation with other tools"
   ]
  },
  {
   "cell_type": "code",
   "execution_count": 22,
   "metadata": {},
   "outputs": [
    {
     "name": "stdout",
     "output_type": "stream",
     "text": [
      "A (6.831154968744393, 6.878420368127758)\n",
      "A (6.823729036304071, 6.88584630056808)\n",
      "T (137.1704905532203, 139.55082426915618)\n",
      "T (136.79651302228717, 139.9248018000893)\n",
      "S (0.4866507593086162, 0.49304299324344886)\n",
      "S (0.48564646657096705, 0.494047285981098)\n",
      "R (6.249370863334102, 6.533458863084871)\n",
      "R (6.204737403746795, 6.578092322672178)\n",
      "H (0.04516049931653001, 0.046384212810868984)\n",
      "H (0.04496823999250387, 0.046576472134895124)\n",
      "F (34.83179662618719, 35.78437323906393)\n",
      "F (34.68213599359466, 35.93403387165646)\n",
      "Q (5.853106864074593, 5.902711837436228)\n",
      "Q (5.845313357922244, 5.910505343588577)\n",
      "P (3.184037837237308, 3.1924954416520306)\n",
      "P (3.1827090512795024, 3.193824227609836)\n",
      "D (0.9939436155295404, 0.9941111374308388)\n",
      "D (0.9939172959313238, 0.9941374570290553)\n",
      "L (10.479803270893758, 10.54873082464654)\n",
      "L (10.468973967341423, 10.559560128198875)\n",
      "X (0.28055190180889317, 0.29488296956718846)\n",
      "X (0.2783003278804133, 0.2971345434956683)\n",
      "W (0.4986867512113935, 0.5149759682659403)\n",
      "W (0.4961275297316026, 0.5175351897457311)\n",
      "C (0.33080232274444266, 0.33758069073043206)\n",
      "C (0.32973736395056197, 0.33864564952431275)\n",
      "V (0.2754183471929338, 0.28106389045508795)\n",
      "V (0.2745313680623094, 0.28195086958571236)\n"
     ]
    }
   ],
   "source": [
    "for col in al:\n",
    "    print(col, st.norm.interval(0.95, loc=al[col].mean(), scale=st.sem(al[col])))\n",
    "    print(col, st.norm.interval(0.99, loc=al[col].mean(), scale=st.sem(al[col])))"
   ]
  },
  {
   "cell_type": "markdown",
   "metadata": {},
   "source": [
    "<b> 5.Choose the variable that exhibits the largest variation coefficient, $ \\frac{s}{m} $\n",
    ". For such a variable,\n",
    "compute the empirical confidence interval for the population mean and the population\n",
    "median using resampling with bootstrap (with $ \\alpha $= 0.01)"
   ]
  },
  {
   "cell_type": "code",
   "execution_count": 45,
   "metadata": {},
   "outputs": [
    {
     "data": {
      "text/plain": [
       "A    0.123106\n",
       "T    0.307154\n",
       "S    0.232983\n",
       "R    0.793574\n",
       "H    0.477318\n",
       "F    0.481678\n",
       "Q    0.150672\n",
       "P    0.047361\n",
       "D    0.003009\n",
       "L    0.117043\n",
       "X    0.889291\n",
       "W    0.573810\n",
       "C    0.362127\n",
       "V    0.362256\n",
       "dtype: float64"
      ]
     },
     "execution_count": 45,
     "metadata": {},
     "output_type": "execute_result"
    }
   ],
   "source": [
    "al.describe().transpose()\n",
    "var1=al.describe().transpose()\n",
    "var1['std']/var1['mean']"
   ]
  },
  {
   "cell_type": "code",
   "execution_count": 58,
   "metadata": {},
   "outputs": [
    {
     "data": {
      "image/png": "[encoded data removed]",
      "text/plain": [
       "<matplotlib.figure.Figure at 0x1622cd17278>"
      ]
     },
     "metadata": {},
     "output_type": "display_data"
    }
   ],
   "source": [
    "m=[];\n",
    "for i in range(0,2000):\n",
    "    m.append(al[\"X\"].sample(n=40).mean())\n",
    "plt.hist(m,bins=\"auto\")\n",
    "plt.show()"
   ]
  },
  {
   "cell_type": "code",
   "execution_count": 64,
   "metadata": {},
   "outputs": [
    {
     "name": "stdout",
     "output_type": "stream",
     "text": [
      "lower bound percentile 0.20349499999999995\n",
      "Upper bound percentile 0.39052\n"
     ]
    }
   ],
   "source": [
    "alpha=0.01\n",
    "p=np.percentile(m,[alpha*100,(1-alpha)*100])\n",
    "print( 'lower bound percentile',p[0])\n",
    "print( 'Upper bound percentile',p[1])"
   ]
  },
  {
   "cell_type": "markdown",
   "metadata": {},
   "source": [
    "<b> 6.For the same variable, test the null hypothesis that the population mean is equal to\n",
    "the sample median (a = 0.01) using resampling with bootstrap."
   ]
  },
  {
   "cell_type": "code",
   "execution_count": 76,
   "metadata": {},
   "outputs": [],
   "source": [
    "def test_hypothesis(H0,m,alpha):\n",
    "    p=np.percentile(m,[alpha*100,(1-alpha)*100])\n",
    "    if ( H0>p[0] and H0<p[1]):\n",
    "        print(\"Null Hypothesis Excepted\")\n",
    "    elif ( H0>=p[0] or H0<=p[1]):\n",
    "        print(\"Rejected\")"
   ]
  },
  {
   "cell_type": "code",
   "execution_count": 80,
   "metadata": {},
   "outputs": [
    {
     "name": "stdout",
     "output_type": "stream",
     "text": [
      "Null Hypothesis Excepted\n"
     ]
    }
   ],
   "source": [
    "H0=al.describe().iloc[1]['X']\n",
    "test_hypothesis(H0,m,alpha)"
   ]
  },
  {
   "cell_type": "markdown",
   "metadata": {},
   "source": [
    "<b> 7. Perform Principal Component Analysis on the individuals with scaling. Produce the\n",
    "biplot and the scatterplot of units on the factorial plane. Comment on the % of\n",
    "variance explained, on collinearity between variables, on the main variables that\n",
    "influence the interpretation of the factorial plane."
   ]
  },
  {
   "cell_type": "markdown",
   "metadata": {},
   "source": [
    "summary(y)\n",
    "#pairs(y)\n",
    "pca  = prcomp(y, scale = TRUE)\n",
    "\n",
    "sum  = summary(pca) \n",
    "\n",
    "load = loadings(pca) \n",
    "\n",
    "plot(pca,type=\"lines\") \n",
    "\n",
    "biplot(pca, cex = 0.7, choices=c(1,2), col=c(\"lightblue\",\"red\"))\n",
    "\n",
    "biplot(pca, expand = 1, cex = 0.7, choices=c(1,2), col=c(\"lightblue\",\"red\"))\n",
    "\n",
    "pca$x # transformed matrix\n",
    "\n",
    "pca$s dev # stdev of factor\n",
    "\n",
    "pca$rotation # loadings of vars into factor, how each factor is obtained from original vars\n",
    "\n"
   ]
  },
  {
   "cell_type": "markdown",
   "metadata": {},
   "source": [
    "The Above code is taken from the lecture notes and execute in R to give the following plots."
   ]
  },
  {
   "attachments": {
    "image.png": {
     "image/png": "[encoded data removed]"
    }
   },
   "cell_type": "markdown",
   "metadata": {},
   "source": [
    "![image.png](attachment:image.png)"
   ]
  },
  {
   "attachments": {
    "image.png": {
     "image/png": "[encoded data removed]"
    }
   },
   "cell_type": "markdown",
   "metadata": {},
   "source": [
    "![image.png](attachment:image.png)"
   ]
  },
  {
   "cell_type": "markdown",
   "metadata": {},
   "source": [
    "<b>8. Cluster the individuals using K-means for k = 2, . . . , 20. Choose the ideal number\n",
    "of clusters according to a method of your choice and provide motivations for your\n",
    "choice. Exhibit and comment the silhouette plot of the chosen clustering. Provide\n",
    "the plot of the clustered points on the factorial plane."
   ]
  },
  {
   "cell_type": "markdown",
   "metadata": {},
   "source": [
    "# K-Means Cluster Analysis\n",
    "fit <- kmeans(y, 5) # 5 cluster solution\n",
    "aggregate(y,by=list(fit$cluster),FUN=mean) # get cluster means \n",
    "y <- data.frame(y, fit$cluster) # append cluster assignment\n",
    "clusplot(y, fit$cluster, color=TRUE, shade=TRUE, labels=2, lines=0, cex = 0.7)\n",
    "\n",
    "\n",
    "# Ward Hierarchical Clustering\n",
    "d <- dist(y, method = \"euclidean\") # distance matrix\n",
    "fit <- hclust(d, method=\"ward\") \n",
    "plot(fit) # display dendogram\n",
    "groups <- cutree(fit, k=3) # cut tree into 5 clusters\n",
    "rect.hclust(fit, k=3, border=\"red\") # draw dendogram with red borders around the 5 clusters \n",
    "\n",
    "\n",
    "# Determine number of clusters with kmeans\n",
    "wss <- (nrow(y)-1)*sum(apply(y,2,var))\n",
    "for (i in 2:20) wss[i] <- sum(kmeans(y,centers=i)$withinss)\n",
    "plot(1:20, wss, type=\"b\", xlab=\"Number of Clusters\",ylab=\"Within groups sum of squares\")\n",
    "\n",
    "\n",
    "\n"
   ]
  },
  {
   "cell_type": "markdown",
   "metadata": {},
   "source": [
    "The Above codes are from the lecture notes #4."
   ]
  },
  {
   "attachments": {
    "image.png": {
     "image/png": "[encoded data removed]"
    }
   },
   "cell_type": "markdown",
   "metadata": {},
   "source": [
    "![image.png](attachment:image.png)"
   ]
  },
  {
   "cell_type": "markdown",
   "metadata": {},
   "source": [
    "<b> I chose only four clusters because I observed beyound the fourth cluster the distances between individual clusters is marginal and so it will not make much difference."
   ]
  },
  {
   "attachments": {
    "image.png": {
     "image/png": "[encoded data removed]"
    }
   },
   "cell_type": "markdown",
   "metadata": {},
   "source": [
    "![image.png](attachment:image.png)"
   ]
  },
  {
   "attachments": {
    "image.png": {
     "image/png": "[encoded data removed]"
    }
   },
   "cell_type": "markdown",
   "metadata": {},
   "source": [
    "![image.png](attachment:image.png)"
   ]
  },
  {
   "cell_type": "markdown",
   "metadata": {},
   "source": [
    "GENERAL COMMENTS.\n",
    "<b> The dataset has 14 variables with 4898 sample avlues in each. From the Histogram and Boxplots, I observe that the data values are skewed to the right in most of the variables. In variable P, the data values are spread around the mean.\n",
    "Also, the correlation matrix shows the three most correlated pairs of variable. The most correlated pair off the diagonal is variable between R and D with correlation cofficient.\n",
    "    \n",
    " <b>In generally the means and standard deviation varies.Low values of standard deviation which is a measure of how spread a data set is,in this care it tell us the mean is close to the S.D.\n",
    "    \n",
    " <b>The confidence Interval contains the population mean for all variables.\n",
    "  \n",
    "  <b>The sample precedure I apply was good because the mean of the population is within 99% of the confidence interval of the sample interval of the dataset.\n",
    "  \n",
    "  <b> I chose only four clusters because I observed beyound the fourth cluster the distances between individual clusters is marginal and so it will not make much difference.\n",
    " \n",
    " <b>I chose The silhouette plot for cluster 2 as the ideal number of clusters because it explains better the points variations in the dataset. The silhouette plot shows that the n_clusters value of 2 is a good pick for the given data due to the presence of a cluster with above average silhouette scores."
   ]
  }
 ],
 "metadata": {
  "kernelspec": {
   "display_name": "Python 3 (ipykernel)",
   "language": "python",
   "name": "python3"
  },
  "language_info": {
   "codemirror_mode": {
    "name": "ipython",
    "version": 3
   },
   "file_extension": ".py",
   "mimetype": "text/x-python",
   "name": "python",
   "nbconvert_exporter": "python",
   "pygments_lexer": "ipython3",
   "version": "3.9.7"
  }
 },
 "nbformat": 4,
 "nbformat_minor": 2
}
